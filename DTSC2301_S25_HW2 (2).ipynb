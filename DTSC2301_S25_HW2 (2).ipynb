{
  "cells": [
    {
      "cell_type": "markdown",
      "metadata": {
        "id": "izKqG6OvCt21"
      },
      "source": [
        "## DTSC 2301 Spring 2025 Homework #2\n",
        "\n",
        "Turn in your assignment via Gradescope\n",
        "\n",
        "Due 1/24/25, 11:59pm\n",
        "\n",
        "For this assignment you may *not* use any generative AI and you may only use python commands and code we used in class."
      ]
    },
    {
      "cell_type": "markdown",
      "metadata": {
        "id": "_-BP6mfTCt23"
      },
      "source": [
        "#### Question 1\n",
        "In the file `https://webpages.charlotte.edu/mschuck1/classes/DTSC2301/Data/Ironman1819.csv', there is data on female finishers of the 2018 and 2019 Ironman Triathlon in Lake Placid, NY.  We will focus on the times to complete the three elements of the triathlon, swimming (Swim.Time), biking (Bike.Time) and running (Run.Time).  The units for each of these features is minutes.  The overall time (including transitions from on element to the next) is found in *Overall.Time*. Create a scatterplot for *Swim.Time* as a predictor for *Run.Time*.  As a note it is generally not a good idea in python to make feature/variables have a '.' in them.\n",
        "\n",
        "More on these data as well as a video introduction to them can be found at: https://isle.stat.cmu.edu/SCORE/ironman_triathlon/"
      ]
    },
    {
      "cell_type": "code",
      "execution_count": 1,
      "metadata": {},
      "outputs": [],
      "source": [
        "import pandas as pd\n",
        "\n",
        "df = pd.read_csv(\"https://webpages.charlotte.edu/mschuck1/classes/DTSC2301/Data/Ironman1819.csv\")"
      ]
    },
    {
      "cell_type": "markdown",
      "metadata": {
        "id": "_WPg6MJAD-0P"
      },
      "source": [
        "#### Question 2\n",
        "Using the Ironman data from above, fit a regression model that predicts *Overall.Time* from *Bike.Time* and add that line to a scatterplot of those two variables.  Interpret the slope and the y-intercept for these data in the context of these data.  "
      ]
    },
    {
      "cell_type": "markdown",
      "metadata": {
        "id": "QDh-l3nRCt24"
      },
      "source": [
        "#### Question 3\n",
        "Open the first day survey data, make a new variable that is 1 if the student has a job, either on-campus or off-campus.  Call that variable *job*.  Then make a side by side boxplot of *job* vs *NumbContacts*.  Comment on whether or not there seems to be a relationship between having a job and the number of contacts in their cell phone among DTSC 2301 students."
      ]
    },
    {
      "cell_type": "markdown",
      "metadata": {
        "id": "9RFOSK4WCt25"
      },
      "source": [
        "#### Question 4\n",
        "For this question, make a ribbon plot with *job* (from the previous question) on the x-axis and *NCHome* (whether or not a student is from North Carolina) on the y-axis.  Make the plot with those axes reversed.  Explain which plot  you prefer and why?  Which feature/variable do you think should be the target variable here and why?"
      ]
    },
    {
      "cell_type": "markdown",
      "metadata": {
        "id": "cfr3iDgzCt26"
      },
      "source": [
        "#### Question 5\n",
        "\n",
        "A data scientist developing a hiring model for sales agents discovers a correlation between having a job on-campus or off-campus and the number of contacts in the candidate's cellular phone. Should the algorithm use this relationship to select candidates for job interviews? Write a 80 - 120 word paragraph with your answer to this question. Consider the implications of the ethical fairness and bias principle of including this data in your model.\n",
        "\n"
      ]
    }
  ],
  "metadata": {
    "colab": {
      "provenance": []
    },
    "kernelspec": {
      "display_name": "terminal",
      "language": "python",
      "name": "python3"
    },
    "language_info": {
      "codemirror_mode": {
        "name": "ipython",
        "version": 3
      },
      "file_extension": ".py",
      "mimetype": "text/x-python",
      "name": "python",
      "nbconvert_exporter": "python",
      "pygments_lexer": "ipython3",
      "version": "3.12.3"
    }
  },
  "nbformat": 4,
  "nbformat_minor": 0
}
